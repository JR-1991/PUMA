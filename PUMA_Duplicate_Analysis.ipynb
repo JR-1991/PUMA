{
  "nbformat": 4,
  "nbformat_minor": 0,
  "metadata": {
    "colab": {
      "name": "PUMA_Duplicate_Analysis.ipynb",
      "provenance": [],
      "collapsed_sections": [],
      "toc_visible": true,
      "include_colab_link": true
    },
    "kernelspec": {
      "name": "python3",
      "display_name": "Python 3"
    },
    "language_info": {
      "name": "python"
    }
  },
  "cells": [
    {
      "cell_type": "markdown",
      "metadata": {
        "id": "view-in-github",
        "colab_type": "text"
      },
      "source": [
        "<a href=\"https://colab.research.google.com/github/siherm/PUMA/blob/main/PUMA_Duplicate_Analysis.ipynb\" target=\"_parent\"><img src=\"https://colab.research.google.com/assets/colab-badge.svg\" alt=\"Open In Colab\"/></a>"
      ]
    },
    {
      "cell_type": "code",
      "source": [
        "!pip install pydantic"
      ],
      "metadata": {
        "colab": {
          "base_uri": "https://localhost:8080/"
        },
        "id": "h5xnwbGYVzJf",
        "outputId": "d9225284-9f83-47fd-b7d5-e3e7bddf97aa"
      },
      "execution_count": 53,
      "outputs": [
        {
          "output_type": "stream",
          "name": "stdout",
          "text": [
            "Requirement already satisfied: pydantic in /usr/local/lib/python3.7/dist-packages (1.9.0)\n",
            "Requirement already satisfied: typing-extensions>=3.7.4.3 in /usr/local/lib/python3.7/dist-packages (from pydantic) (3.10.0.2)\n"
          ]
        }
      ]
    },
    {
      "cell_type": "code",
      "execution_count": 54,
      "metadata": {
        "id": "zTXeRYvBRgAh"
      },
      "outputs": [],
      "source": [
        "import pandas as pd\n",
        "import re\n",
        "import requests\n",
        "\n",
        "from itertools import compress\n",
        "from pydantic import BaseModel, Field, PrivateAttr, validator\n",
        "from typing import Optional, List, Union\n",
        "\n",
        "from __future__ import annotations"
      ]
    },
    {
      "cell_type": "code",
      "source": [
        "def get_simtech_group_entries(username: str, token: str):\n",
        "    \"\"\"Returns a list of all posts present in the SimTech group\n",
        "\n",
        "    Args:\n",
        "\n",
        "        username (str): Username that is used to evaluate rights. Usually the profile name of your PUMA account.\n",
        "        token (str): Token required to grant access to functionalities found in Bibsonomy.\n",
        "\n",
        "    Returns:\n",
        "\n",
        "        list[dict]: All posts as a list of ditionary that include metadata to PUMA specifics and the corresponding bibtex as dict.\n",
        "    \"\"\"\n",
        "    return requests.get(\n",
        "        \"https://puma.ub.uni-stuttgart.de/api/posts?user=simtech&resourcetype=bibtex&start=0&end=11000&format=json\",\n",
        "        auth=(username, token)\n",
        "    ).json()[\"posts\"][\"post\"]"
      ],
      "metadata": {
        "id": "sJ0bsPuWRo2C"
      },
      "execution_count": 55,
      "outputs": []
    },
    {
      "cell_type": "markdown",
      "source": [
        "## Fetching and processing records from PUMA\n",
        "\n",
        "The following code demonstrates how to fetch and process entries found in PUMA. First, the REST-API is called to return a list of all entries found in the SimTech group. Next, the data is parsed into an object to perform analysis. Finally, all the data is collected in a dedicated PUMADataset class to perform duplicate search as well as other analytics."
      ],
      "metadata": {
        "id": "rA44xynDSWI5"
      }
    },
    {
      "cell_type": "code",
      "source": [
        "# 1 - Fetch data from PUMA\n",
        "username = \"hermann\" #@param {type:\"string\"}\n",
        "token = \"cc7b8804d7963cb91dad41f7f8977347\" #@param {type:\"string\"}\n",
        "records = get_simtech_group_entries(username, token)\n",
        "len(records)"
      ],
      "metadata": {
        "id": "MYs76490SVYz",
        "colab": {
          "base_uri": "https://localhost:8080/"
        },
        "outputId": "c1778787-ec1f-4fc2-ac65-2afc3f3bfd04"
      },
      "execution_count": 56,
      "outputs": [
        {
          "output_type": "execute_result",
          "data": {
            "text/plain": [
              "1984"
            ]
          },
          "metadata": {},
          "execution_count": 56
        }
      ]
    },
    {
      "cell_type": "code",
      "source": [
        "# Content of a record\n",
        "records[3]"
      ],
      "metadata": {
        "colab": {
          "base_uri": "https://localhost:8080/"
        },
        "id": "IFT5rNIgTm66",
        "outputId": "0c96fec7-83c2-428b-bba4-59a8e5faa4bd"
      },
      "execution_count": 57,
      "outputs": [
        {
          "output_type": "execute_result",
          "data": {
            "text/plain": [
              "{'bibtex': {'address': 'Austin, TX, USA',\n",
              "  'author': 'Str{\\\\\"a}sser, R. and Berberich, J. and Allg{\\\\\"o}wer, F.',\n",
              "  'bibtexKey': 'ist:strasser21a',\n",
              "  'booktitle': 'Proc. 60th IEEE Conf. Decision and Control (CDC)',\n",
              "  'entrytype': 'inproceedings',\n",
              "  'href': 'https://puma.ub.uni-stuttgart.de/api/users/simtech/posts/44bc0a33f4b4b7c12b9c9c73b575a3ed',\n",
              "  'interhash': '3d94f3fe49b453350bda077389123ec8',\n",
              "  'intrahash': '44bc0a33f4b4b7c12b9c9c73b575a3ed',\n",
              "  'misc': '  doi = {10.1109/CDC45484.2021.9683211}',\n",
              "  'pages': '4344-4351',\n",
              "  'title': 'Data-Driven Control of Nonlinear Systems: Beyond Polynomial Dynamics',\n",
              "  'year': '2021'},\n",
              " 'changedate': '2022-02-10T11:11:03.000+01:00',\n",
              " 'group': [{'href': 'https://puma.ub.uni-stuttgart.de/api/groups/public',\n",
              "   'name': 'public'}],\n",
              " 'postingdate': '2022-02-10T11:11:03.000+01:00',\n",
              " 'tag': [{'href': 'https://puma.ub.uni-stuttgart.de/api/tags/myown',\n",
              "   'name': 'myown'},\n",
              "  {'href': 'https://puma.ub.uni-stuttgart.de/api/tags/pn4', 'name': 'pn4'},\n",
              "  {'href': 'https://puma.ub.uni-stuttgart.de/api/tags/peerReviewed',\n",
              "   'name': 'peerReviewed'},\n",
              "  {'href': 'https://puma.ub.uni-stuttgart.de/api/tags/EXC2075',\n",
              "   'name': 'EXC2075'},\n",
              "  {'href': 'https://puma.ub.uni-stuttgart.de/api/tags/from%3Arstraesser',\n",
              "   'name': 'from:rstraesser'}],\n",
              " 'user': {'href': 'https://puma.ub.uni-stuttgart.de/api/users/simtech',\n",
              "  'name': 'simtech'}}"
            ]
          },
          "metadata": {},
          "execution_count": 57
        }
      ]
    },
    {
      "cell_type": "markdown",
      "source": [
        "## Setting up classes for management\n",
        "\n",
        "In order to process PUMA entries and to enable deep analysis, the given entries will be encapsulated in a class that includes the following attributes.\n",
        "\n",
        "- __str__ title\n",
        "- __str__ user\n",
        "- __str__ authors\n",
        "- __str__ journal\n",
        "- __str__ entrytype\n",
        "- __str__ group\n",
        "- __list[str]__ tags\n",
        "- __str__ url\n",
        "- __dict__ bibtex (raw entry to get values not present in this class)\n",
        "- __Optiona[str]__ doi\n",
        "- __Optiona[str]__ isbn\n",
        "- __Optiona[str]__ preprint_id\n",
        "\n",
        "Please note, PyDantic is used for data validation and processing."
      ],
      "metadata": {
        "id": "U_FnsUt4T2r4"
      }
    },
    {
      "cell_type": "code",
      "source": [
        "class PUMAEntry(BaseModel):\n",
        "\n",
        "  class Config:\n",
        "    allow_population_by_field_name = True\n",
        "    smart_union = True\n",
        "\n",
        "  bibtex: dict = Field(\n",
        "      ...,\n",
        "      description=\"Raw bibtex file that can be utilized in later stages\"\n",
        "  )\n",
        "\n",
        "  title: str = Field(\n",
        "      ...,\n",
        "      description=\"Title of the publication\"\n",
        "  )\n",
        "\n",
        "  user: Union[str, dict] = Field(\n",
        "      ...,\n",
        "      description=\"User that has added the publication\"\n",
        "  )\n",
        "\n",
        "  authors: List[str] = Field(\n",
        "      default_factory=list,\n",
        "      description=\"Authors of the publication\"\n",
        "  )\n",
        "\n",
        "  entrytype: str = Field(\n",
        "      ...,\n",
        "      description=\"Type of entry that is given in the PUMA entry\"\n",
        "  )\n",
        "\n",
        "  group: str = Field(\n",
        "      ...,\n",
        "      description=\"PUMA group association of the entry\"\n",
        "  )\n",
        "\n",
        "  tags: list = Field(\n",
        "      default_factory=list,\n",
        "      alias=\"tag\",\n",
        "      description=\"Tags the dataset has been assigned to\"\n",
        "  )\n",
        "\n",
        "  journal: Optional[str] = Field(\n",
        "      None,\n",
        "      description=\"Journal in which the manuscript has been published\"\n",
        "  )\n",
        "\n",
        "  preprint_id: Optional[dict] = Field(\n",
        "      None,\n",
        "      description=\"ID of the preprint as well as the server\"\n",
        "  )\n",
        "\n",
        "  url: Optional[str] = Field(\n",
        "      None,\n",
        "      description=\"URL for various informations related to the publication\"\n",
        "  )\n",
        "\n",
        "  doi: Optional[str] = Field(\n",
        "      None,\n",
        "      description=\"Digital Object Identifier of the publication\"\n",
        "  )\n",
        "\n",
        "  isbn: Optional[str] = Field(\n",
        "      None,\n",
        "      description=\"ISBN of the book\"\n",
        "  )\n",
        "\n",
        "  issn: Optional[str] = Field(\n",
        "      None,\n",
        "      description=\"ISSN of the book\"\n",
        "  )\n",
        "\n",
        "  misc: Optional[str] = Field(\n",
        "      None,\n",
        "      description=\"Miscellaneous items, mainly used ot populate DOI and ISBN\"\n",
        "  )\n",
        "\n",
        "  # * Private attributes\n",
        "  _raw_data: dict = PrivateAttr()\n",
        "\n",
        "\n",
        "  # ! Validators\n",
        "  @validator(\"user\")\n",
        "  def fetch_username(cls, value: dict):\n",
        "    \"\"\"Parses a user dictionary and fetches the name\"\"\"\n",
        "    return value[\"name\"]\n",
        "\n",
        "  @validator(\"tags\", each_item=True, pre=True)\n",
        "  def parse_tags(cls, tags: List[dict]):\n",
        "    \"\"\"Parses tag name dictionaries to strings\"\"\"\n",
        "    return [\n",
        "            tag[\"name\"] for tag in tags\n",
        "    ]\n",
        "\n",
        "  @validator(\"misc\", always=True)\n",
        "  def parse_misc(cls, misc: Optional[str], values: dict):\n",
        "    \"\"\"Uses the miscellaneous field to find DOIs\"\"\"\n",
        "\n",
        "    if not misc:\n",
        "      # DOI is already here\n",
        "      return None\n",
        "    \n",
        "    if \"doi = \" in misc:\n",
        "      # Use regular expression to fetch the DOI\n",
        "      doi = cls._fetch_from_misc(misc.lower(), \"doi\")\n",
        "\n",
        "      if doi:\n",
        "        doi = doi[doi.find(\"10.\")::]\n",
        "\n",
        "        if doi.startswith(\"10.\"):\n",
        "          values[\"doi\"] = doi\n",
        "\n",
        "    if \"issn = \" in misc:\n",
        "      values[\"issn\"] = cls._fetch_from_misc(misc.lower(), \"issn\")\n",
        "\n",
        "    if \"isbn = \" in misc:\n",
        "      values[\"isbn\"] = cls._fetch_from_misc(misc.lower(), \"isbn\")\n",
        "\n",
        "    if \"arxivid = \" in misc:\n",
        "      values[\"preprint_id\"] = cls._fetch_from_misc(misc.lower(), \"arxivid\")\n",
        "\n",
        "    return None\n",
        "\n",
        "  @validator(\"url\")\n",
        "  def parse_url(cls, url: str, values: dict):\n",
        "    \"\"\"Parses url to get preprint info\"\"\"\n",
        "\n",
        "    if not url:\n",
        "      return None\n",
        "\n",
        "    if \"arxiv.org\" in url:\n",
        "      values[\"preprint_id\"] = {\n",
        "          \"type\": \"arxiv\",\n",
        "          \"id\": url.split(\"/\")[-1]\n",
        "      }\n",
        "\n",
        "    return url\n",
        "\n",
        "  @validator(\"journal\")\n",
        "  def parse_journal(cls, journal: str, values: dict):\n",
        "    \"\"\"Extracts possible pre-prints from the journal\"\"\"\n",
        "\n",
        "    if not journal:\n",
        "      return None\n",
        "\n",
        "    if \"ArXiv e-print\" in journal:\n",
        "      values[\"preprint_id\"] = {\n",
        "          \"type\": \"arxiv\",\n",
        "          \"id\": journal.split(\" \")[-1]\n",
        "      }\n",
        "\n",
        "    return journal\n",
        "\n",
        "\n",
        "  @staticmethod\n",
        "  def _fetch_from_misc(misc: str, search_term: str):\n",
        "    \"\"\"Fetches any additional attribute in misc\"\"\"\n",
        "    pattern = re.compile(f\"{search_term} = \"+ r\"{(.*?)}\")\n",
        "\n",
        "    try:\n",
        "      return pattern.findall(misc)[0].strip(\"{}\")\n",
        "    except IndexError:\n",
        "      return None\n",
        "\n",
        "  # ! Initializers\n",
        "  @classmethod\n",
        "  def from_api_record(cls, api_record: dict, group: str = \"SimTech\"):\n",
        "    \"\"\"Initializes objects coming from an API fetch\"\"\"\n",
        "\n",
        "    # Rearrange data for eeasy initialization\n",
        "    api_record = {**api_record, **api_record[\"bibtex\"]}\n",
        "    api_record[\"group\"] = group\n",
        "\n",
        "    # Create class\n",
        "    cls = cls(**api_record)\n",
        "    cls._raw_data = api_record\n",
        "\n",
        "    return cls\n",
        "\n",
        "  # ! ReDefs\n",
        "  def json(self, indent=2, **kwargs):\n",
        "    return super().json(\n",
        "        exclude={\"bibtex\", \"_raw_data\"},\n",
        "        indent=indent,\n",
        "        **kwargs\n",
        "    )\n"
      ],
      "metadata": {
        "id": "fqk-kYrVUdv5"
      },
      "execution_count": 58,
      "outputs": []
    },
    {
      "cell_type": "code",
      "source": [
        "class PUMACollection(BaseModel):\n",
        "  \"\"\"\n",
        "  Collection of PUMAEntry classes as well as functionalities to perform\n",
        "  analysis and data export.\n",
        "  \"\"\"\n",
        "\n",
        "\n",
        "  records: List[PUMAEntry] = Field(\n",
        "      default_factory=list,\n",
        "      description=\"Collection of PUMA entries\"\n",
        "  )\n",
        "\n",
        "  @classmethod\n",
        "  def from_web_api(cls, username: str, token: str):\n",
        "    \"\"\"Initializes a PUMA collection using the REST API\"\"\"\n",
        "\n",
        "    # Initialize object\n",
        "    cls = cls()\n",
        "\n",
        "    # Get all entries\n",
        "    records = get_simtech_group_entries(username, token)\n",
        "\n",
        "    # Iterate through entries as convert to objects\n",
        "    for record in records:\n",
        "      cls.records.append(\n",
        "          PUMAEntry.from_api_record(record)\n",
        "      )\n",
        "\n",
        "    return cls\n",
        "\n",
        "  # ! Exports\n",
        "  def to_dataframe(self):\n",
        "    \"\"\"Turns the given collection into a Pandas DataFrame for further analysis\"\"\"\n",
        "\n",
        "    data = [record.dict(exclude={\"_raw_data\", \"bibtex\"}) for record in self.records]\n",
        "\n",
        "    return pd.DataFrame(data)\n",
        "\n",
        "  def __iter__(self):\n",
        "    return iter(self.records)"
      ],
      "metadata": {
        "id": "qg8GZaguZ7L8"
      },
      "execution_count": 59,
      "outputs": []
    },
    {
      "cell_type": "markdown",
      "source": [
        "## Utilizing the PUMACollection\n",
        "### Application: Find duplicates\n",
        "\n",
        "Since the PUMACollection class possesses a ```to_dataframe```-method a DataFrame can be used to perform various analysis. One of it may be to find duplicate entries. In this application, the DataFrame is reduced to only those records that are duplicated. Following procedure is applied:\n",
        "\n",
        "1. Generate DataFrame\n",
        "2. Reduce to duplicates\n",
        "3. Create new PUMACollection using indices\n",
        "4. Use the ```merge_duplicates```-method (not implemented yet) to decide on which entry shouls be used."
      ],
      "metadata": {
        "id": "eZn3zAeEmnFP"
      }
    },
    {
      "cell_type": "code",
      "source": [
        "# 0 Fetch remote collection from Simtech group\n",
        "collection = PUMACollection.from_web_api(username, token)"
      ],
      "metadata": {
        "id": "BWdCPEqFmGLI"
      },
      "execution_count": 60,
      "outputs": []
    },
    {
      "cell_type": "code",
      "source": [
        "# 1 Export to DataFrame\n",
        "df = collection.to_dataframe()\n",
        "df.head(3)"
      ],
      "metadata": {
        "colab": {
          "base_uri": "https://localhost:8080/",
          "height": 292
        },
        "id": "upkDthON_n5p",
        "outputId": "99df4637-d64b-45ac-d0b2-f44322c80ef4"
      },
      "execution_count": 61,
      "outputs": [
        {
          "output_type": "execute_result",
          "data": {
            "text/html": [
              "\n",
              "  <div id=\"df-a6300277-d792-4ef5-a0e0-67ce637c8fd1\">\n",
              "    <div class=\"colab-df-container\">\n",
              "      <div>\n",
              "<style scoped>\n",
              "    .dataframe tbody tr th:only-of-type {\n",
              "        vertical-align: middle;\n",
              "    }\n",
              "\n",
              "    .dataframe tbody tr th {\n",
              "        vertical-align: top;\n",
              "    }\n",
              "\n",
              "    .dataframe thead th {\n",
              "        text-align: right;\n",
              "    }\n",
              "</style>\n",
              "<table border=\"1\" class=\"dataframe\">\n",
              "  <thead>\n",
              "    <tr style=\"text-align: right;\">\n",
              "      <th></th>\n",
              "      <th>title</th>\n",
              "      <th>user</th>\n",
              "      <th>authors</th>\n",
              "      <th>entrytype</th>\n",
              "      <th>group</th>\n",
              "      <th>tags</th>\n",
              "      <th>journal</th>\n",
              "      <th>preprint_id</th>\n",
              "      <th>url</th>\n",
              "      <th>doi</th>\n",
              "      <th>isbn</th>\n",
              "      <th>issn</th>\n",
              "      <th>misc</th>\n",
              "    </tr>\n",
              "  </thead>\n",
              "  <tbody>\n",
              "    <tr>\n",
              "      <th>0</th>\n",
              "      <td>A non-intrusive nonlinear model reduction meth...</td>\n",
              "      <td>simtech</td>\n",
              "      <td>[]</td>\n",
              "      <td>article</td>\n",
              "      <td>SimTech</td>\n",
              "      <td>[myown, from:jkneifl, peerReviewed, pn7, exc2075]</td>\n",
              "      <td>International Journal for Numerical Methods in...</td>\n",
              "      <td>None</td>\n",
              "      <td>https://doi.org/10.1002%2Fnme.6712</td>\n",
              "      <td>10.1002/nme.6712</td>\n",
              "      <td>None</td>\n",
              "      <td>None</td>\n",
              "      <td>None</td>\n",
              "    </tr>\n",
              "    <tr>\n",
              "      <th>1</th>\n",
              "      <td>Dynamic self-triggered control for nonlinear s...</td>\n",
              "      <td>simtech</td>\n",
              "      <td>[]</td>\n",
              "      <td>inproceedings</td>\n",
              "      <td>SimTech</td>\n",
              "      <td>[from:michaelhertneck, myown, peerreviewed, ex...</td>\n",
              "      <td>None</td>\n",
              "      <td>None</td>\n",
              "      <td>None</td>\n",
              "      <td>10.1109/cdc45484.2021.9682784</td>\n",
              "      <td>None</td>\n",
              "      <td>None</td>\n",
              "      <td>None</td>\n",
              "    </tr>\n",
              "    <tr>\n",
              "      <th>2</th>\n",
              "      <td>Multi-party computation enables secure polynom...</td>\n",
              "      <td>simtech</td>\n",
              "      <td>[]</td>\n",
              "      <td>inproceedings</td>\n",
              "      <td>SimTech</td>\n",
              "      <td>[myown, from:sebastianschlor, pn4, peerReviewe...</td>\n",
              "      <td>None</td>\n",
              "      <td>None</td>\n",
              "      <td>None</td>\n",
              "      <td>10.1109/cdc45484.2021.9683026</td>\n",
              "      <td>None</td>\n",
              "      <td>None</td>\n",
              "      <td>None</td>\n",
              "    </tr>\n",
              "  </tbody>\n",
              "</table>\n",
              "</div>\n",
              "      <button class=\"colab-df-convert\" onclick=\"convertToInteractive('df-a6300277-d792-4ef5-a0e0-67ce637c8fd1')\"\n",
              "              title=\"Convert this dataframe to an interactive table.\"\n",
              "              style=\"display:none;\">\n",
              "        \n",
              "  <svg xmlns=\"http://www.w3.org/2000/svg\" height=\"24px\"viewBox=\"0 0 24 24\"\n",
              "       width=\"24px\">\n",
              "    <path d=\"M0 0h24v24H0V0z\" fill=\"none\"/>\n",
              "    <path d=\"M18.56 5.44l.94 2.06.94-2.06 2.06-.94-2.06-.94-.94-2.06-.94 2.06-2.06.94zm-11 1L8.5 8.5l.94-2.06 2.06-.94-2.06-.94L8.5 2.5l-.94 2.06-2.06.94zm10 10l.94 2.06.94-2.06 2.06-.94-2.06-.94-.94-2.06-.94 2.06-2.06.94z\"/><path d=\"M17.41 7.96l-1.37-1.37c-.4-.4-.92-.59-1.43-.59-.52 0-1.04.2-1.43.59L10.3 9.45l-7.72 7.72c-.78.78-.78 2.05 0 2.83L4 21.41c.39.39.9.59 1.41.59.51 0 1.02-.2 1.41-.59l7.78-7.78 2.81-2.81c.8-.78.8-2.07 0-2.86zM5.41 20L4 18.59l7.72-7.72 1.47 1.35L5.41 20z\"/>\n",
              "  </svg>\n",
              "      </button>\n",
              "      \n",
              "  <style>\n",
              "    .colab-df-container {\n",
              "      display:flex;\n",
              "      flex-wrap:wrap;\n",
              "      gap: 12px;\n",
              "    }\n",
              "\n",
              "    .colab-df-convert {\n",
              "      background-color: #E8F0FE;\n",
              "      border: none;\n",
              "      border-radius: 50%;\n",
              "      cursor: pointer;\n",
              "      display: none;\n",
              "      fill: #1967D2;\n",
              "      height: 32px;\n",
              "      padding: 0 0 0 0;\n",
              "      width: 32px;\n",
              "    }\n",
              "\n",
              "    .colab-df-convert:hover {\n",
              "      background-color: #E2EBFA;\n",
              "      box-shadow: 0px 1px 2px rgba(60, 64, 67, 0.3), 0px 1px 3px 1px rgba(60, 64, 67, 0.15);\n",
              "      fill: #174EA6;\n",
              "    }\n",
              "\n",
              "    [theme=dark] .colab-df-convert {\n",
              "      background-color: #3B4455;\n",
              "      fill: #D2E3FC;\n",
              "    }\n",
              "\n",
              "    [theme=dark] .colab-df-convert:hover {\n",
              "      background-color: #434B5C;\n",
              "      box-shadow: 0px 1px 3px 1px rgba(0, 0, 0, 0.15);\n",
              "      filter: drop-shadow(0px 1px 2px rgba(0, 0, 0, 0.3));\n",
              "      fill: #FFFFFF;\n",
              "    }\n",
              "  </style>\n",
              "\n",
              "      <script>\n",
              "        const buttonEl =\n",
              "          document.querySelector('#df-a6300277-d792-4ef5-a0e0-67ce637c8fd1 button.colab-df-convert');\n",
              "        buttonEl.style.display =\n",
              "          google.colab.kernel.accessAllowed ? 'block' : 'none';\n",
              "\n",
              "        async function convertToInteractive(key) {\n",
              "          const element = document.querySelector('#df-a6300277-d792-4ef5-a0e0-67ce637c8fd1');\n",
              "          const dataTable =\n",
              "            await google.colab.kernel.invokeFunction('convertToInteractive',\n",
              "                                                     [key], {});\n",
              "          if (!dataTable) return;\n",
              "\n",
              "          const docLinkHtml = 'Like what you see? Visit the ' +\n",
              "            '<a target=\"_blank\" href=https://colab.research.google.com/notebooks/data_table.ipynb>data table notebook</a>'\n",
              "            + ' to learn more about interactive tables.';\n",
              "          element.innerHTML = '';\n",
              "          dataTable['output_type'] = 'display_data';\n",
              "          await google.colab.output.renderOutput(dataTable, element);\n",
              "          const docLink = document.createElement('div');\n",
              "          docLink.innerHTML = docLinkHtml;\n",
              "          element.appendChild(docLink);\n",
              "        }\n",
              "      </script>\n",
              "    </div>\n",
              "  </div>\n",
              "  "
            ],
            "text/plain": [
              "                                               title     user  ...  issn  misc\n",
              "0  A non-intrusive nonlinear model reduction meth...  simtech  ...  None  None\n",
              "1  Dynamic self-triggered control for nonlinear s...  simtech  ...  None  None\n",
              "2  Multi-party computation enables secure polynom...  simtech  ...  None  None\n",
              "\n",
              "[3 rows x 13 columns]"
            ]
          },
          "metadata": {},
          "execution_count": 61
        }
      ]
    },
    {
      "cell_type": "code",
      "source": [
        "# 2 Reduce DataFrame to only include duplicates\n",
        "df_duplicates = df.dropna(subset=[\"doi\"], axis=0)\n",
        "df_duplicates = df_duplicates[df_duplicates.duplicated(subset=[\"doi\"])]\n",
        "df_duplicates.shape"
      ],
      "metadata": {
        "colab": {
          "base_uri": "https://localhost:8080/"
        },
        "id": "3BamPaKEoBfL",
        "outputId": "463f587d-3ff9-43a2-fad5-c0c969f8e5c7"
      },
      "execution_count": 62,
      "outputs": [
        {
          "output_type": "execute_result",
          "data": {
            "text/plain": [
              "(102, 13)"
            ]
          },
          "metadata": {},
          "execution_count": 62
        }
      ]
    },
    {
      "cell_type": "code",
      "source": [
        "# 3 Create new PUMACollection based on duplicates DataFrame\n",
        "duplicates = PUMACollection(\n",
        "    records = [collection.records[i] for i in df_duplicates.index.to_list()]\n",
        ")\n",
        "len(duplicates.records)"
      ],
      "metadata": {
        "id": "LcvXRoOZxRMK",
        "colab": {
          "base_uri": "https://localhost:8080/"
        },
        "outputId": "09d68414-d449-486d-a09a-d1b12e08eac9"
      },
      "execution_count": 63,
      "outputs": [
        {
          "output_type": "execute_result",
          "data": {
            "text/plain": [
              "102"
            ]
          },
          "metadata": {},
          "execution_count": 63
        }
      ]
    },
    {
      "cell_type": "markdown",
      "source": [
        "### @Sibylle wie es weitergehen kann:\n",
        "\n",
        "Du hast nun alle Objekte die Duplikate sind in einer Struktur und kannst diese jetzt entsprechend filtern. Heisst zB wenn du die Tags kontrollieren möchtest erreichst du diese via ```record.tags``` sofern du mit einem for loop drüber iterierst.\n",
        "\n",
        "Weiterhin könntest du die Duplikate über die DOI gruppieren und näher anschauen. Im Folgenden ein Beispiel wie du das machen könntest:"
      ],
      "metadata": {
        "id": "XMFHZMfi3Ps5"
      }
    },
    {
      "cell_type": "code",
      "source": [
        "duplicate_groups = {}\n",
        "\n",
        "for record in duplicates:\n",
        "  doi = record.doi\n",
        "\n",
        "  same_doi = list(filter(\n",
        "      lambda rec: rec.doi == doi,\n",
        "      duplicates\n",
        "  ))\n",
        "\n",
        "  duplicate_groups[doi] = same_doi"
      ],
      "metadata": {
        "id": "JlZ9gPPR3KAM"
      },
      "execution_count": 64,
      "outputs": []
    },
    {
      "cell_type": "code",
      "source": [
        "# Ein Eintrag sieht dann so aus\n",
        "print(duplicate_groups['10.1002/fld.4065'][0].json())"
      ],
      "metadata": {
        "colab": {
          "base_uri": "https://localhost:8080/"
        },
        "id": "EuwGf9vx4Sn5",
        "outputId": "04c1993f-e1bb-41ce-adf3-4aad84f4d3d6"
      },
      "execution_count": 70,
      "outputs": [
        {
          "output_type": "stream",
          "name": "stdout",
          "text": [
            "{\n",
            "  \"title\": \"Relaxation of the Navier-Stokes-Korteweg Equations for Compressible Two-Phase Flow with Phase Transition\",\n",
            "  \"user\": \"simtech\",\n",
            "  \"authors\": [],\n",
            "  \"entrytype\": \"article\",\n",
            "  \"group\": \"SimTech\",\n",
            "  \"tags\": [\n",
            "    \"EXC310\",\n",
            "    \"from:katharinafuchs\",\n",
            "    \"from:simtechpuma\",\n",
            "    \"imported\",\n",
            "    \"pn_missing\"\n",
            "  ],\n",
            "  \"journal\": \"Internat. J. Numer. Methods Fluids\",\n",
            "  \"preprint_id\": null,\n",
            "  \"url\": \"http://doi.org/10.1002/fld.4065\",\n",
            "  \"doi\": \"10.1002/fld.4065\",\n",
            "  \"isbn\": null,\n",
            "  \"issn\": null,\n",
            "  \"misc\": null\n",
            "}\n"
          ]
        }
      ]
    },
    {
      "cell_type": "code",
      "source": [
        ""
      ],
      "metadata": {
        "id": "XjHxG5k94d16"
      },
      "execution_count": null,
      "outputs": []
    }
  ]
}