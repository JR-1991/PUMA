{
 "cells": [
  {
   "cell_type": "markdown",
   "metadata": {
    "colab_type": "text",
    "id": "view-in-github"
   },
   "source": [
    "<a href=\"https://colab.research.google.com/github/siherm/PUMA/blob/main/PUMA_Duplicate_Analysis.ipynb\" target=\"_parent\"><img src=\"https://colab.research.google.com/assets/colab-badge.svg\" alt=\"Open In Colab\"/></a>"
   ]
  },
  {
   "cell_type": "code",
   "execution_count": 1,
   "metadata": {
    "colab": {
     "base_uri": "https://localhost:8080/"
    },
    "id": "h5xnwbGYVzJf",
    "outputId": "d9225284-9f83-47fd-b7d5-e3e7bddf97aa"
   },
   "outputs": [
    {
     "name": "stdout",
     "output_type": "stream",
     "text": [
      "Requirement already satisfied: pydantic in /opt/homebrew/Caskroom/miniforge/base/lib/python3.9/site-packages (1.8.2)\n",
      "Requirement already satisfied: typing-extensions>=3.7.4.3 in /opt/homebrew/Caskroom/miniforge/base/lib/python3.9/site-packages (from pydantic) (4.0.1)\n"
     ]
    }
   ],
   "source": [
    "!pip install pydantic"
   ]
  },
  {
   "cell_type": "code",
   "execution_count": 11,
   "metadata": {
    "id": "zTXeRYvBRgAh"
   },
   "outputs": [],
   "source": [
    "import dictdiffer\n",
    "import os\n",
    "import pandas as pd\n",
    "import re\n",
    "import requests\n",
    "\n",
    "from itertools import compress\n",
    "from pydantic import BaseModel, Field, PrivateAttr, validator\n",
    "from typing import Optional, List, Union\n",
    "\n",
    "from pyPUMA import PUMACollection, PUMAEntry"
   ]
  },
  {
   "cell_type": "markdown",
   "metadata": {
    "id": "rA44xynDSWI5"
   },
   "source": [
    "## Configuration"
   ]
  },
  {
   "cell_type": "code",
   "execution_count": 12,
   "metadata": {
    "colab": {
     "base_uri": "https://localhost:8080/"
    },
    "id": "MYs76490SVYz",
    "outputId": "c1778787-ec1f-4fc2-ac65-2afc3f3bfd04"
   },
   "outputs": [],
   "source": [
    "# 1 - Fetch data from PUMA (Replace if necessary or add to environment vars)\n",
    "username = os.environ[\"PUMA_USERNAME\"]\n",
    "token = os.environ[\"PUMA_TOKEN\"]"
   ]
  },
  {
   "cell_type": "markdown",
   "metadata": {
    "id": "eZn3zAeEmnFP"
   },
   "source": [
    "## Utilizing the PUMACollection\n",
    "### Application: Find duplicates"
   ]
  },
  {
   "cell_type": "code",
   "execution_count": 4,
   "metadata": {
    "id": "BWdCPEqFmGLI"
   },
   "outputs": [],
   "source": [
    "# Fetch remote collection from Simtech group\n",
    "collection = PUMACollection.from_web_api(username, token)\n",
    "\n",
    "# Find all duplicates and sort into data structure\n",
    "duplicates = collection.gather_duplicates(\"doi\")"
   ]
  },
  {
   "cell_type": "code",
   "execution_count": 14,
   "metadata": {
    "colab": {
     "base_uri": "https://localhost:8080/",
     "height": 292
    },
    "id": "upkDthON_n5p",
    "outputId": "99df4637-d64b-45ac-d0b2-f44322c80ef4"
   },
   "outputs": [
    {
     "name": "stdout",
     "output_type": "stream",
     "text": [
      "change in author: ('Beck, Andrea D. and Flad, David G. and Tonh{\\\\\"a}user, Claudia and Gassner, Gregor and Munz, Claus-Dieter', 'Beck, A. and Flad, D. and Tonhäuser, C. and Gassner, G. and Munz, C.-D.')\n",
      "change in ['tag', 1]: ('from:katharinafuchs', 'from:simtechpuma')\n",
      "change in ['tag', 2]: ('from:simtechpuma', 'imported')\n",
      "remove in tag: [(3, 'pn1')]\n",
      "change in journal: ('Flow, Turbulence and Combustion', 'Flow Turbulence Combustion')\n",
      "change in url: ('https://doi.org/10.1007/s10494-016-9704-y', 'http://doi.org/10.1007/s10494-016-9704-y')\n",
      "change in issn: ('1573-1987', None)\n"
     ]
    }
   ],
   "source": [
    "# Get an example\n",
    "record = duplicates[\"10.1007/s10494-016-9704-y\"]\n",
    "one, two = record[0], record[1]\n",
    "\n",
    "# Get difference\n",
    "diff = dictdiffer.diff(one.dict(), two.dict(), ignore=[\"bibtex\"])\n",
    "\n",
    "# Print changes\n",
    "for operation, field, changes in diff:\n",
    "    print(f\"{operation} in {field}: {changes}\")"
   ]
  },
  {
   "cell_type": "code",
   "execution_count": 7,
   "metadata": {},
   "outputs": [
    {
     "data": {
      "text/plain": [
       "PUMAEntry(title='On the Influence of Polynomial De-aliasing on Subgrid Scale Models', user='simtech', author='Beck, Andrea D. and Flad, David G. and Tonh{\\\\\"a}user, Claudia and Gassner, Gregor and Munz, Claus-Dieter', entrytype='article', group='SimTech', tag=['from:katharinafuchs', 'EXC310', 'from:simtechpuma', 'imported', 'pn1'], journal='Flow, Turbulence and Combustion', preprint_id=None, url='https://doi.org/10.1007/s10494-016-9704-y', doi='10.1007/s10494-016-9704-y', isbn=None, issn='1573-1987', misc=None)"
      ]
     },
     "execution_count": 7,
     "metadata": {},
     "output_type": "execute_result"
    }
   ],
   "source": [
    "# Use the PUMAEntry method to merge \n",
    "PUMAEntry.from_multiple_entries(entries=[one, two])"
   ]
  },
  {
   "cell_type": "code",
   "execution_count": 16,
   "metadata": {},
   "outputs": [
    {
     "name": "stdout",
     "output_type": "stream",
     "text": [
      "Merges multiple entries to a single one\n",
      "\n",
      "        This method is used to merge multiple entries to a single one in the\n",
      "        duplicate analysis given within PyPUMA. It should be noted, that the\n",
      "        static fields from the first entry will be preferred if not specified\n",
      "        in the recursion dictionary. Fields that are lists will be added and\n",
      "        duplicate values merged to a single.\n",
      "\n",
      "        In order to apply preferences, a recursion dictionary can be given\n",
      "        from which the fields value that matches will be used. For instance,\n",
      "        if the entry_type attribute is mixed but specified as 'article' the\n",
      "        latter will be used for the new entry. If no values apply to the\n",
      "        recursion, the first will be used.\n",
      "\n",
      "\n",
      "        Args:\n",
      "          entries (list[PUMAEntry]): List of PUMAEntries that will be merged\n",
      "          recursion (dict): Prefrences that will be used to merge.\n",
      "        \n"
     ]
    }
   ],
   "source": [
    "print(PUMAEntry.from_multiple_entries.__doc__)"
   ]
  },
  {
   "cell_type": "code",
   "execution_count": null,
   "metadata": {},
   "outputs": [],
   "source": []
  }
 ],
 "metadata": {
  "colab": {
   "collapsed_sections": [],
   "include_colab_link": true,
   "name": "PUMA_Duplicate_Analysis.ipynb",
   "provenance": [],
   "toc_visible": true
  },
  "kernelspec": {
   "display_name": "enzymeml",
   "language": "python",
   "name": "enzymeml"
  },
  "language_info": {
   "codemirror_mode": {
    "name": "ipython",
    "version": 3
   },
   "file_extension": ".py",
   "mimetype": "text/x-python",
   "name": "python",
   "nbconvert_exporter": "python",
   "pygments_lexer": "ipython3",
   "version": "3.9.10"
  }
 },
 "nbformat": 4,
 "nbformat_minor": 4
}
