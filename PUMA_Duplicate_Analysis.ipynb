{
 "cells": [
  {
   "cell_type": "markdown",
   "metadata": {
    "colab_type": "text",
    "id": "view-in-github"
   },
   "source": [
    "<a href=\"https://colab.research.google.com/github/siherm/PUMA/blob/main/PUMA_Duplicate_Analysis.ipynb\" target=\"_parent\"><img src=\"https://colab.research.google.com/assets/colab-badge.svg\" alt=\"Open In Colab\"/></a>"
   ]
  },
  {
   "cell_type": "code",
   "execution_count": 40,
   "metadata": {
    "colab": {
     "base_uri": "https://localhost:8080/"
    },
    "id": "h5xnwbGYVzJf",
    "outputId": "d9225284-9f83-47fd-b7d5-e3e7bddf97aa"
   },
   "outputs": [
    {
     "name": "stdout",
     "output_type": "stream",
     "text": [
      "Requirement already satisfied: pydantic in c:\\users\\jomar\\appdata\\local\\packages\\pythonsoftwarefoundation.python.3.10_qbz5n2kfra8p0\\localcache\\local-packages\\python310\\site-packages (1.9.0)\n",
      "Requirement already satisfied: typing-extensions>=3.7.4.3 in c:\\users\\jomar\\appdata\\local\\packages\\pythonsoftwarefoundation.python.3.10_qbz5n2kfra8p0\\localcache\\local-packages\\python310\\site-packages (from pydantic) (4.2.0)\n",
      "Note: you may need to restart the kernel to use updated packages.\n"
     ]
    },
    {
     "name": "stderr",
     "output_type": "stream",
     "text": [
      "WARNING: You are using pip version 22.0.4; however, version 22.1.2 is available.\n",
      "You should consider upgrading via the 'C:\\Users\\jomar\\AppData\\Local\\Microsoft\\WindowsApps\\PythonSoftwareFoundation.Python.3.10_qbz5n2kfra8p0\\python.exe -m pip install --upgrade pip' command.\n"
     ]
    }
   ],
   "source": [
    "%pip install pydantic"
   ]
  },
  {
   "cell_type": "code",
   "execution_count": 59,
   "metadata": {
    "id": "zTXeRYvBRgAh"
   },
   "outputs": [],
   "source": [
    "import dictdiffer\n",
    "import os\n",
    "from pprint import  pprint\n",
    "from pyPUMA import PUMACollection, PUMAEntry"
   ]
  },
  {
   "cell_type": "markdown",
   "metadata": {
    "id": "rA44xynDSWI5"
   },
   "source": [
    "## Configuration"
   ]
  },
  {
   "cell_type": "code",
   "execution_count": 42,
   "metadata": {
    "colab": {
     "base_uri": "https://localhost:8080/"
    },
    "id": "MYs76490SVYz",
    "outputId": "c1778787-ec1f-4fc2-ac65-2afc3f3bfd04"
   },
   "outputs": [],
   "source": [
    "# 1 - Fetch data from PUMA (Replace if necessary or add to environment vars)\n",
    "username = \"jo-hollenbeck\"\n",
    "token = \"5efe8593931e3c325f9399812b1de5da\""
   ]
  },
  {
   "cell_type": "markdown",
   "metadata": {
    "id": "eZn3zAeEmnFP"
   },
   "source": [
    "## Utilizing the PUMACollection\n",
    "### Application: Find duplicates"
   ]
  },
  {
   "cell_type": "code",
   "execution_count": 66,
   "metadata": {
    "id": "BWdCPEqFmGLI"
   },
   "outputs": [
    {
     "name": "stdout",
     "output_type": "stream",
     "text": [
      "10.1007/s11242-020-01506-w\n",
      "10.1021/acs.jpcc.0c08870\n",
      "10.1021/acs.jctc.0c00348\n",
      "10.1002/rnc.3360\n",
      "10.1007/s11242-020-01445-6\n",
      "10.1021/acs.jpca.9b08239\n",
      "10.1109/med.2015.7158818\n",
      "10.1080/10255842.2013.853754\n",
      "10.2218/iclass.2021.5815\n",
      "10.1109/tvcg.2019.2961893\n",
      "10.1007/978-3-030-80602-6_17\n",
      "10.1007/s00332-021-09755-9\n",
      "10.1016/j.ifacol.2015.09.296\n",
      "10.1016/j.ijsolstr.2017.04.012\n",
      "10.1016/j.sysconle.2013.04.001\n",
      "10.1016/j.compfluid.2020.104825\n",
      "10.1016/j.ifacol.2015.09.437\n",
      "10.1016/j.jcp.2021.110475\n",
      "10.1109/cdc40024.2019.9029169\n",
      "10.1186/s42492-021-00090-0\n",
      "10.1109/escience.2015.69\n",
      "10.1144/petgeo2016-068\n",
      "10.1002/fld.4065\n",
      "10.1016/j.automatica.2014.10.002\n",
      "10.1002/2016wr018969\n",
      "10.1021/acs.jctc.1c00527\n",
      "10.1002/nme.6869\n",
      "10.1002/rnc.3751\n",
      "10.1111/gwmr.12497\n",
      "10.1109/ecc.2015.7330585\n",
      "10.1016/j.ifacol.2018.11.138\n",
      "10.1109/ecc.2015.7331027\n",
      "10.1145/3399715.3399814\n",
      "10.1109/lcsys.2017.2718556\n",
      "10.1002/rnc.3042\n",
      "10.3182/20130902-5-de-2040.00082\n",
      "10.1007/s10494-016-9704-y\n",
      "10.1007/s10822-021-00439-w\n",
      "10.1080/00207179.2020.1745286\n",
      "10.1111/febs.15838\n",
      "10.17192/bfdm.2022.1.8412\n",
      "10.1016/j.ifacol.2019.12.347\n",
      "10.1137/120899236\n",
      "10.1109/cdc.2015.7402994\n",
      "10.1088/0953-8984/27/32/325105\n",
      "10.1016/j.ifacol.2018.11.131\n",
      "10.4171/ifb/275\n",
      "10.1016/j.jat.2020.105508\n",
      "10.1016/j.sysconle.2016.02.011\n",
      "10.1016/j.jconhyd.2021.103922\n",
      "10.1021/acs.jced.9b00555\n",
      "10.2514/1.g001343\n",
      "10.1016/j.ifacol.2021.08.583\n",
      "10.1038/s41563-021-01121-0\n",
      "10.1109/cdc.2017.8264365\n",
      "10.1524/auto.2011.0929\n",
      "10.1016/j.ifacol.2020.12.570\n",
      "10.1016/j.nahs.2019.06.003\n",
      "10.1137/140985871\n",
      "10.1109/cdc.2016.7799390\n",
      "10.1007/s11242-021-01586-2\n",
      "10.1016/j.sysconle.2013.09.001\n",
      "10.1016/j.ifacol.2015.09.236\n",
      "10.1109/cdc.2013.6760520\n",
      "10.1016/j.jcp.2019.109012\n",
      "10.1109/cdc.2018.8619128\n",
      "10.1016/j.ifacol.2018.11.110\n",
      "10.1137/140985482\n",
      "10.1016/j.ifacol.2020.12.981\n",
      "10.1109/cdc.2013.6760464\n",
      "10.1002/rnc.3301\n",
      "10.1145/3430036.3430038\n",
      "10.18419/opus-9726\n",
      "10.1051/0004-6361/202040023\n",
      "10.1109/cdc.2016.7799071\n",
      "10.1109/tac.2017.2762764\n",
      "10.1016/j.ifacol.2017.08.757\n",
      "10.1021/acs.iecr.6b02671\n",
      "10.1093/mnras/stab3631\n",
      "10.1145/3489849.3489913\n",
      "10.1021/acs.jctc.0c00347\n",
      "10.1016/j.advwatres.2021.104058\n"
     ]
    }
   ],
   "source": [
    "# Fetch remote collection from Simtech group\n",
    "collection = PUMACollection.from_web_api(username, token)\n",
    "\n",
    "# Find all duplicates and sort into data structure\n",
    "duplicates = collection.gather_duplicates(\"doi\")\n",
    "\n",
    "for dup in duplicates:\n",
    "    print(dup)"
   ]
  },
  {
   "cell_type": "code",
   "execution_count": 67,
   "metadata": {
    "colab": {
     "base_uri": "https://localhost:8080/",
     "height": 292
    },
    "id": "upkDthON_n5p",
    "outputId": "99df4637-d64b-45ac-d0b2-f44322c80ef4"
   },
   "outputs": [],
   "source": [
    "# Get an example\n",
    "record = duplicates[\"10.17192/bfdm.2022.1.8412\"]\n"
   ]
  },
  {
   "cell_type": "code",
   "execution_count": 68,
   "metadata": {},
   "outputs": [
    {
     "name": "stdout",
     "output_type": "stream",
     "text": [
      "('change', 'journal', ('Bausteine Forschungsdatenmanagement', None))\n"
     ]
    }
   ],
   "source": [
    "for tup in dictdiffer.diff(record[0].dict(exclude={\"bibtex\"}), record[1].dict(exclude={\"bibtex\"})):\n",
    "    print(tup)"
   ]
  },
  {
   "cell_type": "code",
   "execution_count": 69,
   "metadata": {},
   "outputs": [],
   "source": [
    "authors = record[0].author.split(\" and \")"
   ]
  },
  {
   "cell_type": "code",
   "execution_count": 70,
   "metadata": {},
   "outputs": [
    {
     "name": "stdout",
     "output_type": "stream",
     "text": [
      " Christian Brecher\n",
      " Michael R. Buchmeiser\n",
      " Andreas Burkert\n",
      " Marius R. Busemeyer\n",
      " Stephan Conermann\n",
      " Thomas Ertl\n",
      " Michael Friedrich\n",
      " Rainer Helmig\n",
      " Volker Hohmann\n",
      " Andrew James Johnston\n",
      " Birger Kollmeier\n",
      " Matthew Larkum\n",
      " Jan Louis\n",
      " Achim Menges\n",
      " Uwe Morgner\n",
      " Jürgen Müller\n",
      " Carien Niessen\n",
      " Mario Ohlberger\n",
      " Wolfgang Schäffner\n",
      " Piet Schmidt\n",
      " Dietmar Schmitz\n",
      " Werner Seeger\n",
      " Detlef Stammer\n",
      " Arne Thomas\n",
      " Anita Traninger\n",
      " Martin Wegener\n",
      " Julien Colomb\n",
      " Sibylle Hermann\n",
      " Jenny Kopsch-Xhema\n",
      " Jan Range\n",
      " Bernd Flemisch\n"
     ]
    }
   ],
   "source": [
    "for author in authors:\n",
    "    surname, name = author.split(\",\")\n",
    "    \n",
    "    print(name, surname)"
   ]
  },
  {
   "cell_type": "code",
   "execution_count": 48,
   "metadata": {},
   "outputs": [
    {
     "name": "stdout",
     "output_type": "stream",
     "text": [
      "['Beck, Andrea D. ', ' Flad, David G. ', ' Tonh{\\\\\"a}user, Claudia ', ' Gassner, Gregor ', ' Munz, Claus-Dieter']\n",
      "['Beck, A. ', ' Flad, D. ', ' Tonhäuser, C. ', ' Gassner, G. ', ' Munz, C.-D.']\n",
      "{\n",
      "  \"title\": \"On the Influence of Polynomial De-aliasing on Subgrid Scale Models\",\n",
      "  \"user\": \"simtech\",\n",
      "  \"author\": \"Beck, Andrea D. and Flad, David G. and Tonh{\\\\\\\"a}user, Claudia and Gassner, Gregor and Munz, Claus-Dieter\",\n",
      "  \"entrytype\": \"article\",\n",
      "  \"group\": \"SimTech\",\n",
      "  \"tag\": [\n",
      "    \"EXC310\",\n",
      "    \"from:katharinafuchs\",\n",
      "    \"imported\",\n",
      "    \"pn1\",\n",
      "    \"from:simtechpuma\"\n",
      "  ],\n",
      "  \"journal\": \"Flow, Turbulence and Combustion\",\n",
      "  \"preprint_id\": null,\n",
      "  \"url\": \"https://doi.org/10.1007/s10494-016-9704-y\",\n",
      "  \"doi\": \"10.1007/s10494-016-9704-y\",\n",
      "  \"isbn\": null,\n",
      "  \"issn\": \"1573-1987\",\n",
      "  \"misc\": null\n",
      "}\n"
     ]
    }
   ],
   "source": [
    "# Use the PUMAEntry method to merge \n",
    "print(PUMAEntry.from_multiple_entries(entries=[record[0], record[1]]).json(indent=2))"
   ]
  },
  {
   "cell_type": "code",
   "execution_count": 49,
   "metadata": {},
   "outputs": [
    {
     "name": "stdout",
     "output_type": "stream",
     "text": [
      "Merges multiple entries to a single one\n",
      "\n",
      "        This method is used to merge multiple entries to a single one in the\n",
      "        duplicate analysis given within PyPUMA. It should be noted, that the\n",
      "        static fields from the first entry will be preferred if not specified\n",
      "        in the recursion dictionary. Fields that are lists will be added and\n",
      "        duplicate values merged to a single.\n",
      "\n",
      "        In order to apply preferences, a recursion dictionary can be given\n",
      "        from which the fields value that matches will be used. For instance,\n",
      "        if the entry_type attribute is mixed but specified as 'article' the\n",
      "        latter will be used for the new entry. If no values apply to the\n",
      "        recursion, the first will be used.\n",
      "\n",
      "\n",
      "        Args:\n",
      "          entries (list[PUMAEntry]): List of PUMAEntries that will be merged\n",
      "          recursion (dict): Prefrences that will be used to merge.\n",
      "        \n"
     ]
    }
   ],
   "source": [
    "print(PUMAEntry.from_multiple_entries.__doc__)"
   ]
  },
  {
   "cell_type": "code",
   "execution_count": 50,
   "metadata": {},
   "outputs": [],
   "source": [
    "import re"
   ]
  },
  {
   "cell_type": "code",
   "execution_count": 51,
   "metadata": {},
   "outputs": [],
   "source": [
    "def filter_regex(result: list[tuple]):\n",
    "    return [\n",
    "        tup for tup in result\n",
    "        if list(filter(None, tup))\n",
    "    ]"
   ]
  },
  {
   "cell_type": "code",
   "execution_count": 52,
   "metadata": {},
   "outputs": [],
   "source": [
    "regex = r\"[pn|PN](\\d*)(-\\w?)?\"\n",
    "regex = re.compile(regex)"
   ]
  },
  {
   "cell_type": "code",
   "execution_count": 53,
   "metadata": {},
   "outputs": [],
   "source": [
    "string = \"pn<7>\"\n",
    "string = re.sub(r\">|<\", \"\", string)"
   ]
  },
  {
   "cell_type": "code",
   "execution_count": 54,
   "metadata": {},
   "outputs": [
    {
     "data": {
      "text/plain": [
       "[('7', '')]"
      ]
     },
     "execution_count": 54,
     "metadata": {},
     "output_type": "execute_result"
    }
   ],
   "source": [
    "filter_regex(regex.findall(string))"
   ]
  },
  {
   "cell_type": "code",
   "execution_count": 55,
   "metadata": {},
   "outputs": [],
   "source": [
    "tags = []\n",
    "for record in collection:\n",
    "    for tag in record.tag:\n",
    "        if \"graduateschool\" in tag.lower():\n",
    "            tags.append(tag.lower())\n",
    "    "
   ]
  },
  {
   "cell_type": "code",
   "execution_count": 56,
   "metadata": {},
   "outputs": [
    {
     "data": {
      "text/plain": [
       "{'graduateschool'}"
      ]
     },
     "execution_count": 56,
     "metadata": {},
     "output_type": "execute_result"
    }
   ],
   "source": [
    "set(tags)"
   ]
  },
  {
   "cell_type": "code",
   "execution_count": 57,
   "metadata": {},
   "outputs": [
    {
     "data": {
      "text/plain": [
       "dict_keys(['bibtex', 'title', 'user', 'author', 'entrytype', 'group', 'tag', 'journal', 'preprint_id', 'url', 'doi', 'isbn', 'issn', 'misc'])"
      ]
     },
     "execution_count": 57,
     "metadata": {},
     "output_type": "execute_result"
    }
   ],
   "source": [
    "collection.records[0].__dict__.keys()"
   ]
  },
  {
   "cell_type": "code",
   "execution_count": 58,
   "metadata": {},
   "outputs": [
    {
     "data": {
      "text/plain": [
       "True"
      ]
     },
     "execution_count": 58,
     "metadata": {},
     "output_type": "execute_result"
    }
   ],
   "source": [
    "bool((\"\", \"\"))"
   ]
  },
  {
   "cell_type": "code",
   "execution_count": null,
   "metadata": {},
   "outputs": [],
   "source": []
  }
 ],
 "metadata": {
  "colab": {
   "collapsed_sections": [],
   "include_colab_link": true,
   "name": "PUMA_Duplicate_Analysis.ipynb",
   "provenance": [],
   "toc_visible": true
  },
  "interpreter": {
   "hash": "7c3a13ea33bdfa551709a22e613fceed178befb93475d8b6bdaa8a98dd18f0d1"
  },
  "kernelspec": {
   "display_name": "Python 3.10.4 64-bit (windows store)",
   "language": "python",
   "name": "python3"
  },
  "language_info": {
   "codemirror_mode": {
    "name": "ipython",
    "version": 3
   },
   "file_extension": ".py",
   "mimetype": "text/x-python",
   "name": "python",
   "nbconvert_exporter": "python",
   "pygments_lexer": "ipython3",
   "version": "3.10.5"
  }
 },
 "nbformat": 4,
 "nbformat_minor": 4
}
