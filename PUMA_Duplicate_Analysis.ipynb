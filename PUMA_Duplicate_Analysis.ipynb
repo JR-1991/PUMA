{
 "cells": [
  {
   "cell_type": "markdown",
   "metadata": {
    "colab_type": "text",
    "id": "view-in-github"
   },
   "source": [
    "<a href=\"https://colab.research.google.com/github/siherm/PUMA/blob/main/PUMA_Duplicate_Analysis.ipynb\" target=\"_parent\"><img src=\"https://colab.research.google.com/assets/colab-badge.svg\" alt=\"Open In Colab\"/></a>"
   ]
  },
  {
   "cell_type": "code",
   "execution_count": 1,
   "metadata": {
    "colab": {
     "base_uri": "https://localhost:8080/"
    },
    "id": "h5xnwbGYVzJf",
    "outputId": "d9225284-9f83-47fd-b7d5-e3e7bddf97aa"
   },
   "outputs": [
    {
     "name": "stdout",
     "output_type": "stream",
     "text": [
      "Requirement already satisfied: pydantic in /opt/homebrew/Caskroom/miniforge/base/lib/python3.9/site-packages (1.8.2)\n",
      "Requirement already satisfied: typing-extensions>=3.7.4.3 in /opt/homebrew/Caskroom/miniforge/base/lib/python3.9/site-packages (from pydantic) (4.0.1)\n"
     ]
    }
   ],
   "source": [
    "!pip install pydantic"
   ]
  },
  {
   "cell_type": "code",
   "execution_count": 114,
   "metadata": {
    "id": "zTXeRYvBRgAh"
   },
   "outputs": [],
   "source": [
    "import dictdiffer\n",
    "import os\n",
    "\n",
    "from pyPUMA import PUMACollection, PUMAEntry"
   ]
  },
  {
   "cell_type": "markdown",
   "metadata": {
    "id": "rA44xynDSWI5"
   },
   "source": [
    "## Configuration"
   ]
  },
  {
   "cell_type": "code",
   "execution_count": 115,
   "metadata": {
    "colab": {
     "base_uri": "https://localhost:8080/"
    },
    "id": "MYs76490SVYz",
    "outputId": "c1778787-ec1f-4fc2-ac65-2afc3f3bfd04"
   },
   "outputs": [],
   "source": [
    "# 1 - Fetch data from PUMA (Replace if necessary or add to environment vars)\n",
    "username = os.environ[\"PUMA_USERNAME\"]\n",
    "token = os.environ[\"PUMA_TOKEN\"]"
   ]
  },
  {
   "cell_type": "markdown",
   "metadata": {
    "id": "eZn3zAeEmnFP"
   },
   "source": [
    "## Utilizing the PUMACollection\n",
    "### Application: Find duplicates"
   ]
  },
  {
   "cell_type": "code",
   "execution_count": 116,
   "metadata": {
    "id": "BWdCPEqFmGLI"
   },
   "outputs": [],
   "source": [
    "# Fetch remote collection from Simtech group\n",
    "collection = PUMACollection.from_web_api(username, token)\n",
    "\n",
    "# Find all duplicates and sort into data structure\n",
    "duplicates = collection.gather_duplicates(\"doi\")"
   ]
  },
  {
   "cell_type": "code",
   "execution_count": 117,
   "metadata": {
    "colab": {
     "base_uri": "https://localhost:8080/",
     "height": 292
    },
    "id": "upkDthON_n5p",
    "outputId": "99df4637-d64b-45ac-d0b2-f44322c80ef4"
   },
   "outputs": [],
   "source": [
    "# Get an example\n",
    "record = duplicates[\"10.1007/s10494-016-9704-y\"]"
   ]
  },
  {
   "cell_type": "code",
   "execution_count": 118,
   "metadata": {},
   "outputs": [
    {
     "name": "stdout",
     "output_type": "stream",
     "text": [
      "('change', 'author', ('Beck, Andrea D. and Flad, David G. and Tonh{\\\\\"a}user, Claudia and Gassner, Gregor and Munz, Claus-Dieter', 'Beck, A. and Flad, D. and Tonhäuser, C. and Gassner, G. and Munz, C.-D.'))\n",
      "('change', ['tag', 1], ('from:katharinafuchs', 'from:simtechpuma'))\n",
      "('change', ['tag', 2], ('from:simtechpuma', 'imported'))\n",
      "('remove', 'tag', [(3, 'pn1')])\n",
      "('change', 'journal', ('Flow, Turbulence and Combustion', 'Flow Turbulence Combustion'))\n",
      "('change', 'url', ('https://doi.org/10.1007/s10494-016-9704-y', 'http://doi.org/10.1007/s10494-016-9704-y'))\n",
      "('change', 'issn', ('1573-1987', None))\n"
     ]
    }
   ],
   "source": [
    "for tup in dictdiffer.diff(record[0].dict(exclude={\"bibtex\"}), record[1].dict(exclude={\"bibtex\"})):\n",
    "    print(tup)"
   ]
  },
  {
   "cell_type": "code",
   "execution_count": 122,
   "metadata": {},
   "outputs": [],
   "source": [
    "authors = record[0].author.split(\" and \")"
   ]
  },
  {
   "cell_type": "code",
   "execution_count": 123,
   "metadata": {},
   "outputs": [
    {
     "name": "stdout",
     "output_type": "stream",
     "text": [
      " Andrea D. Beck\n",
      " David G. Flad\n",
      " Claudia Tonh{\\\"a}user\n",
      " Gregor Gassner\n",
      " Claus-Dieter Munz\n"
     ]
    }
   ],
   "source": [
    "for author in authors:\n",
    "    surname, name = author.split(\",\")\n",
    "    \n",
    "    print(name, surname)"
   ]
  },
  {
   "cell_type": "code",
   "execution_count": 24,
   "metadata": {},
   "outputs": [
    {
     "name": "stdout",
     "output_type": "stream",
     "text": [
      "{\n",
      "  \"title\": \"On the Influence of Polynomial De-aliasing on Subgrid Scale Models\",\n",
      "  \"user\": \"simtech\",\n",
      "  \"author\": \"Beck, Andrea D. and Flad, David G. and Tonh{\\\\\\\"a}user, Claudia and Gassner, Gregor and Munz, Claus-Dieter\",\n",
      "  \"entrytype\": \"article\",\n",
      "  \"group\": \"SimTech\",\n",
      "  \"tag\": [\n",
      "    \"imported\",\n",
      "    \"pn1\",\n",
      "    \"from:simtechpuma\",\n",
      "    \"EXC310\",\n",
      "    \"from:katharinafuchs\"\n",
      "  ],\n",
      "  \"journal\": \"Flow, Turbulence and Combustion\",\n",
      "  \"preprint_id\": null,\n",
      "  \"url\": \"https://doi.org/10.1007/s10494-016-9704-y\",\n",
      "  \"doi\": \"10.1007/s10494-016-9704-y\",\n",
      "  \"isbn\": null,\n",
      "  \"issn\": \"1573-1987\",\n",
      "  \"misc\": null\n",
      "}\n"
     ]
    }
   ],
   "source": [
    "# Use the PUMAEntry method to merge \n",
    "print(PUMAEntry.from_multiple_entries(entries=[record[0], record[1]]).json(indent=2))"
   ]
  },
  {
   "cell_type": "code",
   "execution_count": 16,
   "metadata": {},
   "outputs": [
    {
     "name": "stdout",
     "output_type": "stream",
     "text": [
      "Merges multiple entries to a single one\n",
      "\n",
      "        This method is used to merge multiple entries to a single one in the\n",
      "        duplicate analysis given within PyPUMA. It should be noted, that the\n",
      "        static fields from the first entry will be preferred if not specified\n",
      "        in the recursion dictionary. Fields that are lists will be added and\n",
      "        duplicate values merged to a single.\n",
      "\n",
      "        In order to apply preferences, a recursion dictionary can be given\n",
      "        from which the fields value that matches will be used. For instance,\n",
      "        if the entry_type attribute is mixed but specified as 'article' the\n",
      "        latter will be used for the new entry. If no values apply to the\n",
      "        recursion, the first will be used.\n",
      "\n",
      "\n",
      "        Args:\n",
      "          entries (list[PUMAEntry]): List of PUMAEntries that will be merged\n",
      "          recursion (dict): Prefrences that will be used to merge.\n",
      "        \n"
     ]
    }
   ],
   "source": [
    "print(PUMAEntry.from_multiple_entries.__doc__)"
   ]
  },
  {
   "cell_type": "code",
   "execution_count": 95,
   "metadata": {},
   "outputs": [],
   "source": [
    "import re"
   ]
  },
  {
   "cell_type": "code",
   "execution_count": 100,
   "metadata": {},
   "outputs": [],
   "source": [
    "def filter_regex(result: list[tuple]):\n",
    "    return [\n",
    "        tup for tup in result\n",
    "        if list(filter(None, tup))\n",
    "    ]"
   ]
  },
  {
   "cell_type": "code",
   "execution_count": 105,
   "metadata": {},
   "outputs": [],
   "source": [
    "regex = r\"[pn|PN](\\d*)(-\\w?)?\"\n",
    "regex = re.compile(regex)"
   ]
  },
  {
   "cell_type": "code",
   "execution_count": 112,
   "metadata": {},
   "outputs": [
    {
     "data": {
      "text/plain": [
       "'pn7'"
      ]
     },
     "execution_count": 112,
     "metadata": {},
     "output_type": "execute_result"
    }
   ],
   "source": [
    "string = \"pn<7>\"\n",
    "string = re.sub(r\">|<\", \"\", string)"
   ]
  },
  {
   "cell_type": "code",
   "execution_count": 107,
   "metadata": {},
   "outputs": [
    {
     "data": {
      "text/plain": [
       "[('3', '-8')]"
      ]
     },
     "execution_count": 107,
     "metadata": {},
     "output_type": "execute_result"
    }
   ],
   "source": [
    "filter_regex(regex.findall(string))"
   ]
  },
  {
   "cell_type": "code",
   "execution_count": 58,
   "metadata": {},
   "outputs": [],
   "source": [
    "tags = []\n",
    "for record in collection:\n",
    "    for tag in record.tag:\n",
    "        if \"pn\" in tag.lower():\n",
    "            tags.append(tag.lower())\n",
    "    "
   ]
  },
  {
   "cell_type": "code",
   "execution_count": 59,
   "metadata": {},
   "outputs": [
    {
     "data": {
      "text/plain": [
       "{'pn1',\n",
       " 'pn1-2b',\n",
       " 'pn2',\n",
       " 'pn2-6',\n",
       " 'pn3',\n",
       " 'pn3-6',\n",
       " 'pn3-8send:unibiblio',\n",
       " 'pn4',\n",
       " 'pn5',\n",
       " 'pn6',\n",
       " 'pn6-1',\n",
       " 'pn7',\n",
       " 'pn<7>',\n",
       " 'pn_missing'}"
      ]
     },
     "execution_count": 59,
     "metadata": {},
     "output_type": "execute_result"
    }
   ],
   "source": [
    "set(tags)"
   ]
  },
  {
   "cell_type": "code",
   "execution_count": 54,
   "metadata": {},
   "outputs": [
    {
     "data": {
      "text/plain": [
       "dict_keys(['bibtex', 'title', 'user', 'author', 'entrytype', 'group', 'tag', 'journal', 'preprint_id', 'url', 'doi', 'isbn', 'issn', 'misc'])"
      ]
     },
     "execution_count": 54,
     "metadata": {},
     "output_type": "execute_result"
    }
   ],
   "source": [
    "collection.records[0].__dict__.keys()"
   ]
  },
  {
   "cell_type": "code",
   "execution_count": 92,
   "metadata": {},
   "outputs": [
    {
     "data": {
      "text/plain": [
       "True"
      ]
     },
     "execution_count": 92,
     "metadata": {},
     "output_type": "execute_result"
    }
   ],
   "source": [
    "bool((\"\", \"\"))"
   ]
  },
  {
   "cell_type": "code",
   "execution_count": null,
   "metadata": {},
   "outputs": [],
   "source": []
  }
 ],
 "metadata": {
  "colab": {
   "collapsed_sections": [],
   "include_colab_link": true,
   "name": "PUMA_Duplicate_Analysis.ipynb",
   "provenance": [],
   "toc_visible": true
  },
  "kernelspec": {
   "display_name": "enzymeml",
   "language": "python",
   "name": "enzymeml"
  },
  "language_info": {
   "codemirror_mode": {
    "name": "ipython",
    "version": 3
   },
   "file_extension": ".py",
   "mimetype": "text/x-python",
   "name": "python",
   "nbconvert_exporter": "python",
   "pygments_lexer": "ipython3",
   "version": "3.9.10"
  }
 },
 "nbformat": 4,
 "nbformat_minor": 4
}
