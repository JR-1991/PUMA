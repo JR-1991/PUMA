{
 "cells": [
  {
   "cell_type": "code",
   "execution_count": 63,
   "metadata": {},
   "outputs": [],
   "source": [
    "import requests\n",
    "import json"
   ]
  },
  {
   "cell_type": "code",
   "execution_count": 64,
   "metadata": {},
   "outputs": [],
   "source": [
    "information = ['bibtex','title','author','type','group', 'tag', 'journal', 'preprint_id','URL','DOI','ISBN','ISSN','misc']\n",
    "doi=\"10.1007/s10494-016-9704-y\"\n",
    "response = requests.get(f\"http://api.crossref.org/works/org/works/{doi}\")\n"
   ]
  },
  {
   "cell_type": "code",
   "execution_count": 65,
   "metadata": {},
   "outputs": [],
   "source": [
    "\n",
    "def orderAuthors(authors):\n",
    "    authorsOrdered =\"\"\n",
    "    for author in authors:\n",
    "        authorsOrdered += author['family']+\", \"+author['given']\n",
    "        if author != authors[-1]:\n",
    "           authorsOrdered += \" and \"\n",
    "    return authorsOrdered\n"
   ]
  },
  {
   "cell_type": "code",
   "execution_count": 66,
   "metadata": {},
   "outputs": [
    {
     "name": "stdout",
     "output_type": "stream",
     "text": [
      "\n",
      "title: ['On the Influence of Polynomial De-aliasing on Subgrid Scale Models']\n",
      "\n",
      "author: Beck, Andrea D. and Flad, David G. and Tonhäuser, Claudia and Gassner, Gregor and Munz, Claus-Dieter\n",
      "\n",
      "type: journal-article\n",
      "\n",
      "URL: http://dx.doi.org/10.1007/s10494-016-9704-y\n",
      "\n",
      "DOI: 10.1007/s10494-016-9704-y\n",
      "\n",
      "ISSN: ['1386-6184', '1573-1987']\n",
      "\n",
      "\n",
      " bibtex= None , title=['On the Influence of Polynomial De-aliasing on Subgrid Scale Models'], type=journal-article, group= None , tag= None , journal= None , preprint_id= None , URL=http://dx.doi.org/10.1007/s10494-016-9704-y, DOI=10.1007/s10494-016-9704-y, ISBN= None , ISSN=['1386-6184', '1573-1987'], misc= None ,\n"
     ]
    }
   ],
   "source": [
    "list = response.json()\n",
    "\n",
    "infoTest = \"\"\n",
    "for i in information:\n",
    "    if i == 'author':\n",
    "        orderedAuthors = orderAuthors(list['message']['author'])\n",
    "        print(\"\\n\"+i+\": \"+ str(orderedAuthors))\n",
    "    elif i in list['message'].keys():\n",
    "        print(\"\\n\"+i+\": \"+ str(list['message'][i]))\n",
    "        infoTest += ' '+i+'='+str(list['message'][i])+','\n",
    "    else:\n",
    "        infoTest += ' '+i+'= None ,'\n",
    "print(\"\\n\")\n",
    "print(infoTest)\n"
   ]
  },
  {
   "cell_type": "code",
   "execution_count": 67,
   "metadata": {},
   "outputs": [],
   "source": [
    "def getFromMerging(information):\n",
    "    # hier dictionary von möglich PyEntry wert mit zugehörigem Wert\n",
    "    # dann Wert von infomation zurückgeben\n",
    "    map ={'information': \"value\"}  #Beispiel\n",
    "    return map['infomation']\n",
    "\n",
    "\n",
    "def inCrossref(information):\n",
    "    value = list['message'][information] if information in list['message'].keys() else None\n",
    "    if value == None:\n",
    "        getFromMerging(information)\n",
    "    return value\n",
    "bibtex =        inCrossref('bibtex')\n",
    "title =         inCrossref('title')\n",
    "author =        orderAuthors(list['message']['author'])\n",
    "type =          inCrossref('type')\n",
    "group =         inCrossref('group')\n",
    "tag =           inCrossref('tag')\n",
    "journal =       inCrossref('journal')\n",
    "preprint_id =   inCrossref('preprint_id')\n",
    "url =           inCrossref('URL')\n",
    "doi =           inCrossref('DOI')\n",
    "isbn =          inCrossref('ISBN')\n",
    "issn =          inCrossref('ISSN')\n",
    "misc =          inCrossref('misc')\n",
    "\n",
    "\n",
    "#test = PUMAEntry(bibtex,title,author,type,group,tag,journal,preprint_id,url,doi,isbn,issn,misc)"
   ]
  },
  {
   "cell_type": "code",
   "execution_count": 68,
   "metadata": {},
   "outputs": [],
   "source": [
    "import dictdiffer\n",
    "import os\n",
    "\n",
    "from pyPUMA import PUMACollection, PUMAEntry\n",
    "\n",
    "# 1 - Fetch data from PUMA (Replace if necessary or add to environment vars)\n",
    "username = \"johollenbeck\" #'value' #@param {type:\"johollenbeck\"}\n",
    "token = \"7271525e19dd0c27aec7d94d456fa52b\" #'value' #@param {type:\"7271525e19dd0c27aec7d94d456fa52b\"}\n",
    "collection = PUMACollection.from_web_api(username, token)\n",
    "\n",
    "# Find all duplicates and sort into data structure\n",
    "duplicates = collection.gather_duplicates(\"doi\")\n",
    "#print(duplicates)\n",
    "record = duplicates[\"10.1007/s10494-016-9704-y\"]"
   ]
  },
  {
   "cell_type": "code",
   "execution_count": null,
   "metadata": {},
   "outputs": [],
   "source": []
  }
 ],
 "metadata": {
  "interpreter": {
   "hash": "7c3a13ea33bdfa551709a22e613fceed178befb93475d8b6bdaa8a98dd18f0d1"
  },
  "kernelspec": {
   "display_name": "Python 3.10.4 64-bit (windows store)",
   "language": "python",
   "name": "python3"
  },
  "language_info": {
   "codemirror_mode": {
    "name": "ipython",
    "version": 3
   },
   "file_extension": ".py",
   "mimetype": "text/x-python",
   "name": "python",
   "nbconvert_exporter": "python",
   "pygments_lexer": "ipython3",
   "version": "3.10.4"
  },
  "orig_nbformat": 4
 },
 "nbformat": 4,
 "nbformat_minor": 2
}
